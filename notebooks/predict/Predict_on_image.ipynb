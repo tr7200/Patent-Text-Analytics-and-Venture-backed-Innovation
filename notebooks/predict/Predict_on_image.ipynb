{
 "cells": [
  {
   "cell_type": "markdown",
   "metadata": {},
   "source": [
    "# Predicting on new data with the Tf-Keras patent or citation count models"
   ]
  },
  {
   "cell_type": "markdown",
   "metadata": {},
   "source": [
    "This script shows how to predict on new data using the Tf-Keras objects provided in the github directory for the finance research paper \"Patent text analytics and venture-backed innovation\""
   ]
  },
  {
   "cell_type": "code",
   "execution_count": 1,
   "metadata": {},
   "outputs": [
    {
     "name": "stderr",
     "output_type": "stream",
     "text": [
      "Using TensorFlow backend.\n"
     ]
    }
   ],
   "source": [
    "import joblib\n",
    "\n",
    "import numpy as np\n",
    "\n",
    "from keras.models import load_model\n",
    "import keras.backend as K\n",
    "\n",
    "from sklearn.preprocessing import MinMaxScaler"
   ]
  },
  {
   "cell_type": "code",
   "execution_count": 2,
   "metadata": {},
   "outputs": [
    {
     "data": {
      "text/plain": [
       "'1.18.1'"
      ]
     },
     "execution_count": 2,
     "metadata": {},
     "output_type": "execute_result"
    }
   ],
   "source": [
    "np.__version__"
   ]
  },
  {
   "cell_type": "code",
   "execution_count": 3,
   "metadata": {},
   "outputs": [
    {
     "data": {
      "text/plain": [
       "'0.14.1'"
      ]
     },
     "execution_count": 3,
     "metadata": {},
     "output_type": "execute_result"
    }
   ],
   "source": [
    "joblib.__version__"
   ]
  },
  {
   "cell_type": "code",
   "execution_count": 4,
   "metadata": {},
   "outputs": [
    {
     "data": {
      "text/plain": [
       "'0.25.3'"
      ]
     },
     "execution_count": 4,
     "metadata": {},
     "output_type": "execute_result"
    }
   ],
   "source": [
    "pd.__version__"
   ]
  },
  {
   "cell_type": "markdown",
   "metadata": {},
   "source": [
    "31 variables, in order:\n",
    "\n",
    "The variable of interest in the research paper:\n",
    "- log.Cosine: log of cosine similarity between the description text of the patent of interest and that of a peer company's patent \n",
    "(non-negative float)\n",
    "\n",
    "For the company creating the patent of interest (prepended with 'pat1', or patent 1): \n",
    "- pat1.DistKM: Distance in kilometers between company producing patent of interest and VC headquarters. \n",
    "Distance is great circle for international distance and driving distance for domestic distance (non-negative float)\n",
    "- pat1.Co.Age: Age in days from founding of company producing patent of interest and VC first round, can be negative for companies \n",
    "that received seed money (int)\n",
    "- pat1.Buyout.Stage: Indicator variable, was the company producing the patent of interest in the buyout stage or not? (1 or 0)\n",
    "- pat1.Early.Stage: Indicator variable, was the company producing the patent of interest in the early stage or not? (1 or 0)\n",
    "- pat1.Expansion.Stage: Indicator variable, was the company producing the patent of interest in the expansion stage or not? (1 or 0)\n",
    "- pat1.Later.Stage: Indicator variable, was the company producing the patent of interest in the later stage or not? (1 or 0)\n",
    "- pat1.Startup.Seed: Indicator variable, was the company producing the patent of interest in the startup/seed stage or not? (1 or 0)\n",
    "- pat1.Stage.Other: Indicator variable, was the company producing the patent of interest in a stage other than above or not? (1 or 0)\n",
    "\n",
    "Shared industry variables between company producing patent of interest and the peer company of comparison to which its patent text \n",
    "is compared. Note that only one of the following six variables should take a value of one, while the rest should be zero:\n",
    "- x.Biotech: Indicator variable, are the companies in the biotech industry or not? (1 or 0)\n",
    "- x.Comm.Media: Indicator variable, are the companies in the communications and media industry or not? (1 or 0)\n",
    "- x.Comp.Rel: Indicator variable, are the companies in a computer-related industry or not? (1 or 0)\n",
    "- x.Medical: Indicator variable, are the companies in the medical industry or not? (1 or 0)\n",
    "- x.NonHT: Indicator variable, are the companies in a non-high tech industry or not? (1 or 0)\n",
    "- x.Semi: Indicator variable, are the companies in the semiconductor or another high-tech industry or not? (1 or 0)\n",
    "\n",
    "For the company of comparison producing the patent with which a text similarity measure is obtained (prepended with 'pat2', or patent 2):\n",
    "- pat2.DistKM: Distance in kilometers between company producing patent of interest and VC headquarters  \n",
    "Distance is great circle for international distance and driving distance for domestic distance (non-negative float)\n",
    "- pat2.Co.Age: Age in days from founding of company producing patent of interest and VC first round (int)\n",
    "- pat2.Buyout.stage: Indicator variable, was the company producing the patent of interest in the buyout stage or not? (1 or 0)\n",
    "- pat2.Early.Stage: Indicator variable, was the company producing the patent of interest in the early stage or not? (1 or 0)\n",
    "- pat2.Expansion.Stage: Indicator variable, was the company producing the patent of interest in the expansion stage or not? (1 or 0)\n",
    "- pat2.Later.Stage: Indicator variable, was the company producing the patent of interest in the later stage or not? (1 or 0)\n",
    "- pat2.Startup.Seed: Indicator variable, was the company producing the patent of interest in the startup/seed stage or not? (1 or 0)\n",
    "- pat2.Stage.Other: Indicator variable, was the company producing the patent of interest in a stage other than above or not? (1 or 0)\n",
    "\n",
    "Shared economic and linguistic variables between company producing patent of interest and the peer company of comparison to which \n",
    "its patent text is compared (see the research paper for exact definitions):\n",
    "- pat1.Cr.Dev: credit development of the country of domicile of the company producing the patent of interest (positive float)\n",
    "- pat1.Eq.Dev: equity development of the country of domicile of the company producing the patent of interest (positive float)\n",
    "- pat2.Cr.Dev: credit development of the country of domicile of the company producing the patent of interest (positive float)\n",
    "- pat2.Eq.Dev: equity development of the country of domicile of the company producing the patent of interest (positive float)\n",
    "- pat1.Firm.ling.dist: Measure of linguistic distance for language of first VC firm for company of interest from English (float, 0-6)\n",
    "- pat1.Comp.ling.dist: Measure of linguistic distance for language of company of interest from English (float, 0-6)\n",
    "- pat2.Firm.ling.dist: Measure of linguistic distance for language of first VC firm for company of comparison from English (float, 0-6)\n",
    "- pat2.Comp.ling.dist: Measure of linguistic distance for language of company of comparison from English (float, 0-6)"
   ]
  },
  {
   "cell_type": "code",
   "execution_count": 5,
   "metadata": {},
   "outputs": [],
   "source": [
    "# load data as a numpy array for prediction. \n",
    "sample = np.loadtxt(fname=\"Sample_data.csv\", \n",
    "                    delimiter=\",\", \n",
    "                    skiprows=1)"
   ]
  },
  {
   "cell_type": "code",
   "execution_count": 6,
   "metadata": {},
   "outputs": [
    {
     "data": {
      "text/plain": [
       "array([ 1.71260150e-02,  1.22549000e+04, -1.53000000e+02,  0.00000000e+00,\n",
       "        0.00000000e+00,  0.00000000e+00,  0.00000000e+00,  1.00000000e+00,\n",
       "        0.00000000e+00,  0.00000000e+00,  0.00000000e+00,  0.00000000e+00,\n",
       "        0.00000000e+00,  0.00000000e+00,  1.00000000e+00,  1.12600000e+02,\n",
       "        1.00300000e+03,  0.00000000e+00,  1.00000000e+00,  0.00000000e+00,\n",
       "        0.00000000e+00,  0.00000000e+00,  0.00000000e+00,  1.17205201e+02,\n",
       "        5.97811440e+01,  9.49799480e+01,  1.39973378e+02,  0.00000000e+00,\n",
       "        6.00000000e+00,  9.00000000e-01,  9.00000000e-01])"
      ]
     },
     "execution_count": 6,
     "metadata": {},
     "output_type": "execute_result"
    }
   ],
   "source": [
    "sample"
   ]
  },
  {
   "cell_type": "code",
   "execution_count": 7,
   "metadata": {},
   "outputs": [
    {
     "data": {
      "text/plain": [
       "31"
      ]
     },
     "execution_count": 7,
     "metadata": {},
     "output_type": "execute_result"
    }
   ],
   "source": [
    "len(sample)"
   ]
  },
  {
   "cell_type": "code",
   "execution_count": 8,
   "metadata": {},
   "outputs": [],
   "source": [
    "# Check values are within acceptable ranges, also defined in data dictionary\n",
    "\n",
    "# Cosine similarity\n",
    "assert sample[0] >= 0\n",
    "\n",
    "# Distance between company of interest and its first VC firm\n",
    "assert sample[1] >= 0\n",
    "\n",
    "# Check one of the six industry indicator variables is one\n",
    "assert sample[9] == 1 or sample[10] == 1 or sample[11] == 1 or sample[12] == 1 or sample[13] == 1 or sample[14] == 1\n",
    "\n",
    "# Distance between company of comparison and its first VC firm\n",
    "assert sample[1] >= 0\n",
    "\n",
    "# Language variables for both companies and both VC firms\n",
    "assert sample[27] >= 0 and sample[27] <= 6\n",
    "assert sample[28] >= 0 and sample[28] <= 6\n",
    "assert sample[29] >= 0 and sample[29] <= 6\n",
    "assert sample[30] >= 0 and sample[30] <= 6"
   ]
  },
  {
   "cell_type": "code",
   "execution_count": 9,
   "metadata": {},
   "outputs": [],
   "source": [
    "# Reading in MinMaxScaler file with joblib\n",
    "scalerfile = 'Patent_text_cosine_similarity_training_MinMaxScaler-2-14-20.save'\n",
    "scaler = joblib.load(open(scalerfile, 'rb'))\n",
    "\n",
    "# Transforming sample data\n",
    "# (sample.reshape() is required because it is just one line, an array)\n",
    "scaled_data = scaler.transform(sample.reshape(-1, 31))"
   ]
  },
  {
   "cell_type": "code",
   "execution_count": 10,
   "metadata": {},
   "outputs": [
    {
     "data": {
      "text/plain": [
       "array([[0.02549758, 0.800606  , 0.17048587, 0.        , 0.        ,\n",
       "        0.        , 0.        , 1.        , 0.        , 0.        ,\n",
       "        0.        , 0.        , 0.        , 0.        , 1.        ,\n",
       "        0.0073561 , 0.27007236, 0.        , 1.        , 0.        ,\n",
       "        0.        , 0.        , 0.        , 0.4664382 , 0.10617387,\n",
       "        0.35250498, 0.26557875, 0.        , 0.85714286, 0.12857143,\n",
       "        0.12857143]])"
      ]
     },
     "execution_count": 10,
     "metadata": {},
     "output_type": "execute_result"
    }
   ],
   "source": [
    "# The data is now scaled between 0 and 1 according to the scales used with the training data for these predictive objects\n",
    "scaled_data"
   ]
  },
  {
   "cell_type": "code",
   "execution_count": 11,
   "metadata": {},
   "outputs": [],
   "source": [
    "def patent_value_loss(y_true, y_pred):\n",
    "  '''\n",
    "  Since this was present during training for the patent count model,\n",
    "  it must be loaded as a custom object at the time of prediction.\n",
    "  Remove the custom_object code below if you are predicting on\n",
    "  citation counts (measure of quality).\n",
    "  '''\n",
    "\n",
    "  patent_value_loss = K.abs(1 - K.exp(y_true - y_pred)) * 50000\n",
    "    \n",
    "  return patent_value_loss"
   ]
  },
  {
   "cell_type": "code",
   "execution_count": 12,
   "metadata": {},
   "outputs": [
    {
     "name": "stdout",
     "output_type": "stream",
     "text": [
      "WARNING:tensorflow:From /Users/trogers/opt/anaconda3/envs/keras-env/lib/python3.7/site-packages/keras/backend/tensorflow_backend.py:517: The name tf.placeholder is deprecated. Please use tf.compat.v1.placeholder instead.\n",
      "\n",
      "WARNING:tensorflow:From /Users/trogers/opt/anaconda3/envs/keras-env/lib/python3.7/site-packages/keras/backend/tensorflow_backend.py:4185: The name tf.truncated_normal is deprecated. Please use tf.random.truncated_normal instead.\n",
      "\n",
      "WARNING:tensorflow:From /Users/trogers/opt/anaconda3/envs/keras-env/lib/python3.7/site-packages/keras/backend/tensorflow_backend.py:174: The name tf.get_default_session is deprecated. Please use tf.compat.v1.get_default_session instead.\n",
      "\n",
      "WARNING:tensorflow:From /Users/trogers/opt/anaconda3/envs/keras-env/lib/python3.7/site-packages/keras/backend/tensorflow_backend.py:181: The name tf.ConfigProto is deprecated. Please use tf.compat.v1.ConfigProto instead.\n",
      "\n",
      "WARNING:tensorflow:From /Users/trogers/opt/anaconda3/envs/keras-env/lib/python3.7/site-packages/keras/backend/tensorflow_backend.py:186: The name tf.Session is deprecated. Please use tf.compat.v1.Session instead.\n",
      "\n",
      "WARNING:tensorflow:From /Users/trogers/opt/anaconda3/envs/keras-env/lib/python3.7/site-packages/keras/backend/tensorflow_backend.py:190: The name tf.global_variables is deprecated. Please use tf.compat.v1.global_variables instead.\n",
      "\n",
      "WARNING:tensorflow:From /Users/trogers/opt/anaconda3/envs/keras-env/lib/python3.7/site-packages/keras/backend/tensorflow_backend.py:199: The name tf.is_variable_initialized is deprecated. Please use tf.compat.v1.is_variable_initialized instead.\n",
      "\n",
      "WARNING:tensorflow:From /Users/trogers/opt/anaconda3/envs/keras-env/lib/python3.7/site-packages/keras/backend/tensorflow_backend.py:206: The name tf.variables_initializer is deprecated. Please use tf.compat.v1.variables_initializer instead.\n",
      "\n",
      "WARNING:tensorflow:From /Users/trogers/opt/anaconda3/envs/keras-env/lib/python3.7/site-packages/keras/optimizers.py:790: The name tf.train.Optimizer is deprecated. Please use tf.compat.v1.train.Optimizer instead.\n",
      "\n",
      "WARNING:tensorflow:From /Users/trogers/opt/anaconda3/envs/keras-env/lib/python3.7/site-packages/keras/backend/tensorflow_backend.py:986: The name tf.assign_add is deprecated. Please use tf.compat.v1.assign_add instead.\n",
      "\n",
      "WARNING:tensorflow:From /Users/trogers/opt/anaconda3/envs/keras-env/lib/python3.7/site-packages/keras/backend/tensorflow_backend.py:973: The name tf.assign is deprecated. Please use tf.compat.v1.assign instead.\n",
      "\n"
     ]
    }
   ],
   "source": [
    "patent_model = load_model(\"patent_text_model_epoch_no.030-2-14-20.h5\", \n",
    "                          custom_objects={'patent_value_loss': patent_value_loss})"
   ]
  },
  {
   "cell_type": "code",
   "execution_count": 13,
   "metadata": {},
   "outputs": [],
   "source": [
    "prediction = patent_model.predict(scaled_data)"
   ]
  },
  {
   "cell_type": "code",
   "execution_count": 14,
   "metadata": {},
   "outputs": [
    {
     "data": {
      "text/plain": [
       "array([[1.6938591]], dtype=float32)"
      ]
     },
     "execution_count": 14,
     "metadata": {},
     "output_type": "execute_result"
    }
   ],
   "source": [
    "prediction"
   ]
  },
  {
   "cell_type": "markdown",
   "metadata": {},
   "source": [
    "This is a log value that can be back-transformed for the patent or citation count."
   ]
  }
 ],
 "metadata": {
  "kernelspec": {
   "display_name": "Python 3",
   "language": "python",
   "name": "python3"
  },
  "language_info": {
   "codemirror_mode": {
    "name": "ipython",
    "version": 3
   },
   "file_extension": ".py",
   "mimetype": "text/x-python",
   "name": "python",
   "nbconvert_exporter": "python",
   "pygments_lexer": "ipython3",
   "version": "3.7.4"
  },
  "toc": {
   "base_numbering": 1,
   "nav_menu": {},
   "number_sections": true,
   "sideBar": true,
   "skip_h1_title": false,
   "title_cell": "Table of Contents",
   "title_sidebar": "Contents",
   "toc_cell": false,
   "toc_position": {},
   "toc_section_display": true,
   "toc_window_display": false
  },
  "varInspector": {
   "cols": {
    "lenName": 16,
    "lenType": 16,
    "lenVar": 40
   },
   "kernels_config": {
    "python": {
     "delete_cmd_postfix": "",
     "delete_cmd_prefix": "del ",
     "library": "var_list.py",
     "varRefreshCmd": "print(var_dic_list())"
    },
    "r": {
     "delete_cmd_postfix": ") ",
     "delete_cmd_prefix": "rm(",
     "library": "var_list.r",
     "varRefreshCmd": "cat(var_dic_list()) "
    }
   },
   "types_to_exclude": [
    "module",
    "function",
    "builtin_function_or_method",
    "instance",
    "_Feature"
   ],
   "window_display": false
  }
 },
 "nbformat": 4,
 "nbformat_minor": 2
}
