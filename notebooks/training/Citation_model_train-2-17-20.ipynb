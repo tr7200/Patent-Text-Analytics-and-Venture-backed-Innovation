{
 "cells": [
  {
   "cell_type": "markdown",
   "metadata": {},
   "source": [
    "# Citation count training"
   ]
  },
  {
   "cell_type": "code",
   "execution_count": 1,
   "metadata": {},
   "outputs": [
    {
     "name": "stderr",
     "output_type": "stream",
     "text": [
      "Using TensorFlow backend.\n"
     ]
    }
   ],
   "source": [
    "from __future__ import print_function\n",
    "import numpy as np\n",
    "import keras\n",
    "import os\n",
    "from pandas import read_csv\n",
    "\n",
    "import subprocess\n",
    "import platform\n",
    "import datetime as dt\n",
    "import pickle, joblib\n",
    "\n",
    "from keras.callbacks import ModelCheckpoint, CSVLogger, EarlyStopping, ReduceLROnPlateau\n",
    "from keras.layers.core import Dense, Activation\n",
    "from keras.layers import PReLU\n",
    "from keras.models import Sequential\n",
    "from keras.utils import np_utils\n",
    "from keras import regularizers, optimizers\n",
    "import keras.backend as K\n",
    " \n",
    "from sklearn.model_selection import train_test_split\n",
    "from sklearn.preprocessing import MinMaxScaler\n",
    "\n",
    "import matplotlib.pyplot as plt\n",
    "%matplotlib inline\n",
    "\n",
    "np.random.seed(1)"
   ]
  },
  {
   "cell_type": "code",
   "execution_count": 2,
   "metadata": {},
   "outputs": [],
   "source": [
    "# Reproducibility code\n",
    "\n",
    "# save python environment when run\n",
    "open('Keras_citations_text_training_environment-2-17-20.txt', 'wb').write(subprocess.check_output(['pip', 'list']))\n",
    "\n",
    "# underlying platform\n",
    "system = platform.uname()\n",
    "\n",
    "# python version\n",
    "python_version = platform.python_version()\n",
    "\n",
    "# date and time of run\n",
    "date = dt.datetime.today().strftime(\"%Y-%m-%d %H:%M:%S\")\n",
    "\n",
    "config = {\n",
    "    'system': system,\n",
    "    'python_version': python_version,\n",
    "    'date': date\n",
    "}\n",
    "\n",
    "pickle.dump(config, open('Keras_citations_text_training_config-2-17-20.p', 'wb'))"
   ]
  },
  {
   "cell_type": "code",
   "execution_count": 3,
   "metadata": {},
   "outputs": [],
   "source": [
    "# Using AMD gpu with PlaidML and Metal\n",
    "os.environ[\"KERAS_BACKEND\"] = \"plaidml.keras.backend\""
   ]
  },
  {
   "cell_type": "code",
   "execution_count": 4,
   "metadata": {},
   "outputs": [],
   "source": [
    "# Create our data function\n",
    "\n",
    "def data(indep_variables, target):\n",
    "    \"\"\"\n",
    "    Importing data, dropping id variables, scaling data between 0 and 1 for benefit of activation functions\n",
    "    \"\"\"\n",
    "    indep_variables = read_csv(indep_variables, header = 0)\n",
    "    target = read_csv(target, header = 0)\n",
    "    train_x, test_x, train_y, test_y= train_test_split(indep_variables, target, test_size = 0.05, random_state = 1)\n",
    "    x_scaler = MinMaxScaler().fit(train_x)\n",
    "    train_x = x_scaler.transform(train_x)\n",
    "    test_x = x_scaler.transform(test_x)\n",
    "    joblib.dump(x_scaler, \"Citations_text_cosine_similarity_training_MinMaxScaler-2-17-20.save\")\n",
    "    return train_x, train_y, test_x, test_y"
   ]
  },
  {
   "cell_type": "code",
   "execution_count": 5,
   "metadata": {},
   "outputs": [],
   "source": [
    "# Load the data\n",
    "indep_variables = '../Patent_text_independent_variables-11-13-19.csv'\n",
    "target = '../Citation_count_y-11-13-19.csv'\n",
    "\n",
    "train_x, train_y, test_x, test_y = data(indep_variables, target)"
   ]
  },
  {
   "cell_type": "code",
   "execution_count": 6,
   "metadata": {},
   "outputs": [
    {
     "name": "stdout",
     "output_type": "stream",
     "text": [
      "WARNING:tensorflow:From /Users/trogers/opt/anaconda3/envs/keras-env/lib/python3.7/site-packages/keras/backend/tensorflow_backend.py:74: The name tf.get_default_graph is deprecated. Please use tf.compat.v1.get_default_graph instead.\n",
      "\n",
      "WARNING:tensorflow:From /Users/trogers/opt/anaconda3/envs/keras-env/lib/python3.7/site-packages/keras/backend/tensorflow_backend.py:517: The name tf.placeholder is deprecated. Please use tf.compat.v1.placeholder instead.\n",
      "\n",
      "WARNING:tensorflow:From /Users/trogers/opt/anaconda3/envs/keras-env/lib/python3.7/site-packages/keras/backend/tensorflow_backend.py:4185: The name tf.truncated_normal is deprecated. Please use tf.random.truncated_normal instead.\n",
      "\n",
      "WARNING:tensorflow:From /Users/trogers/opt/anaconda3/envs/keras-env/lib/python3.7/site-packages/keras/optimizers.py:790: The name tf.train.Optimizer is deprecated. Please use tf.compat.v1.train.Optimizer instead.\n",
      "\n"
     ]
    }
   ],
   "source": [
    "\"\"\"\n",
    "Instantiate a model - the architectural choices chosen by Hyperas\n",
    "led to erratic loss during training, these are slightly different\n",
    "\n",
    "The loss function is MSE, which is more appropriate for a \n",
    "logarithmic dependent variable and robust to outliers\n",
    "\"\"\" \n",
    "\n",
    "model = Sequential() \n",
    "model.add(Dense(31, input_shape=(31,), kernel_initializer='he_normal'))\n",
    "model.add(keras.layers.PReLU())\n",
    "model.add(Dense(26, kernel_initializer='he_normal'))\n",
    "model.add(keras.layers.PReLU())\n",
    "model.add(Dense(24, kernel_initializer='he_normal'))\n",
    "model.add(keras.layers.PReLU())    \n",
    "model.add(Dense(20, kernel_initializer='he_normal'))\n",
    "model.add(keras.layers.PReLU())\n",
    "model.add(Dense(18, kernel_initializer='he_normal'))\n",
    "model.add(keras.layers.PReLU())\n",
    "model.add(Dense(14, kernel_initializer='he_normal'))\n",
    "model.add(keras.layers.PReLU())\n",
    "model.add(Dense(6, kernel_initializer='he_normal'))\n",
    "model.add(keras.layers.PReLU())\n",
    "model.add(Dense(8, kernel_initializer='he_normal'))\n",
    "model.add(keras.layers.PReLU())\n",
    "model.add(Dense(1, kernel_initializer='he_normal'))\n",
    "    \n",
    "model.compile(loss='mean_squared_error', metrics=['mae'], optimizer='adam')"
   ]
  },
  {
   "cell_type": "code",
   "execution_count": 7,
   "metadata": {},
   "outputs": [
    {
     "name": "stdout",
     "output_type": "stream",
     "text": [
      "WARNING:tensorflow:From /Users/trogers/opt/anaconda3/envs/keras-env/lib/python3.7/site-packages/keras/backend/tensorflow_backend.py:986: The name tf.assign_add is deprecated. Please use tf.compat.v1.assign_add instead.\n",
      "\n",
      "WARNING:tensorflow:From /Users/trogers/opt/anaconda3/envs/keras-env/lib/python3.7/site-packages/keras/backend/tensorflow_backend.py:973: The name tf.assign is deprecated. Please use tf.compat.v1.assign instead.\n",
      "\n",
      "WARNING:tensorflow:From /Users/trogers/opt/anaconda3/envs/keras-env/lib/python3.7/site-packages/keras/backend/tensorflow_backend.py:2741: The name tf.Session is deprecated. Please use tf.compat.v1.Session instead.\n",
      "\n",
      "Train on 4507301 samples, validate on 237227 samples\n",
      "Epoch 1/30\n",
      "WARNING:tensorflow:From /Users/trogers/opt/anaconda3/envs/keras-env/lib/python3.7/site-packages/keras/backend/tensorflow_backend.py:174: The name tf.get_default_session is deprecated. Please use tf.compat.v1.get_default_session instead.\n",
      "\n",
      "WARNING:tensorflow:From /Users/trogers/opt/anaconda3/envs/keras-env/lib/python3.7/site-packages/keras/backend/tensorflow_backend.py:181: The name tf.ConfigProto is deprecated. Please use tf.compat.v1.ConfigProto instead.\n",
      "\n",
      "WARNING:tensorflow:From /Users/trogers/opt/anaconda3/envs/keras-env/lib/python3.7/site-packages/keras/backend/tensorflow_backend.py:190: The name tf.global_variables is deprecated. Please use tf.compat.v1.global_variables instead.\n",
      "\n",
      "WARNING:tensorflow:From /Users/trogers/opt/anaconda3/envs/keras-env/lib/python3.7/site-packages/keras/backend/tensorflow_backend.py:199: The name tf.is_variable_initialized is deprecated. Please use tf.compat.v1.is_variable_initialized instead.\n",
      "\n",
      "WARNING:tensorflow:From /Users/trogers/opt/anaconda3/envs/keras-env/lib/python3.7/site-packages/keras/backend/tensorflow_backend.py:206: The name tf.variables_initializer is deprecated. Please use tf.compat.v1.variables_initializer instead.\n",
      "\n",
      "4507301/4507301 [==============================] - 1068s 237us/step - loss: 0.9139 - mean_absolute_error: 0.7602 - val_loss: 0.8733 - val_mean_absolute_error: 0.7378\n",
      "\n",
      "Epoch 00001: val_loss improved from inf to 0.87333, saving model to citations_text_model_epoch_no.001-2-17-20.h5\n",
      "Epoch 2/30\n",
      "4507301/4507301 [==============================] - 1229s 273us/step - loss: 0.8554 - mean_absolute_error: 0.7293 - val_loss: 0.8437 - val_mean_absolute_error: 0.7243\n",
      "\n",
      "Epoch 00002: val_loss improved from 0.87333 to 0.84367, saving model to citations_text_model_epoch_no.002-2-17-20.h5\n",
      "Epoch 3/30\n",
      "4507301/4507301 [==============================] - 1278s 283us/step - loss: 0.8433 - mean_absolute_error: 0.7223 - val_loss: 0.8492 - val_mean_absolute_error: 0.7225\n",
      "\n",
      "Epoch 00003: val_loss did not improve from 0.84367\n",
      "Epoch 4/30\n",
      "4507301/4507301 [==============================] - 1269s 281us/step - loss: 0.8378 - mean_absolute_error: 0.7186 - val_loss: 0.8276 - val_mean_absolute_error: 0.7111\n",
      "\n",
      "Epoch 00004: val_loss improved from 0.84367 to 0.82762, saving model to citations_text_model_epoch_no.004-2-17-20.h5\n",
      "Epoch 5/30\n",
      "4507301/4507301 [==============================] - 1280s 284us/step - loss: 0.8343 - mean_absolute_error: 0.7164 - val_loss: 0.8282 - val_mean_absolute_error: 0.7151\n",
      "\n",
      "Epoch 00005: val_loss did not improve from 0.82762\n",
      "Epoch 6/30\n",
      "4507301/4507301 [==============================] - 1279s 284us/step - loss: 0.8315 - mean_absolute_error: 0.7145 - val_loss: 0.8270 - val_mean_absolute_error: 0.7109\n",
      "\n",
      "Epoch 00006: val_loss improved from 0.82762 to 0.82701, saving model to citations_text_model_epoch_no.006-2-17-20.h5\n",
      "Epoch 7/30\n",
      "4507301/4507301 [==============================] - 1279s 284us/step - loss: 0.8297 - mean_absolute_error: 0.7135 - val_loss: 0.8259 - val_mean_absolute_error: 0.7065\n",
      "\n",
      "Epoch 00007: val_loss improved from 0.82701 to 0.82587, saving model to citations_text_model_epoch_no.007-2-17-20.h5\n",
      "Epoch 8/30\n",
      "4507301/4507301 [==============================] - 1286s 285us/step - loss: 0.8281 - mean_absolute_error: 0.7124 - val_loss: 0.8235 - val_mean_absolute_error: 0.7094\n",
      "\n",
      "Epoch 00008: val_loss improved from 0.82587 to 0.82345, saving model to citations_text_model_epoch_no.008-2-17-20.h5\n",
      "Epoch 9/30\n",
      "4507301/4507301 [==============================] - 1267s 281us/step - loss: 0.8272 - mean_absolute_error: 0.7117 - val_loss: 0.8247 - val_mean_absolute_error: 0.7079\n",
      "\n",
      "Epoch 00009: val_loss did not improve from 0.82345\n",
      "Epoch 10/30\n",
      "4507301/4507301 [==============================] - 1261s 280us/step - loss: 0.8264 - mean_absolute_error: 0.7111 - val_loss: 0.8279 - val_mean_absolute_error: 0.7107\n",
      "\n",
      "Epoch 00010: ReduceLROnPlateau reducing learning rate to 0.00010000000474974513.\n",
      "\n",
      "Epoch 00010: val_loss did not improve from 0.82345\n",
      "Epoch 11/30\n",
      "4507301/4507301 [==============================] - 1281s 284us/step - loss: 0.8068 - mean_absolute_error: 0.6959 - val_loss: 0.8056 - val_mean_absolute_error: 0.6934\n",
      "\n",
      "Epoch 00011: val_loss improved from 0.82345 to 0.80562, saving model to citations_text_model_epoch_no.011-2-17-20.h5\n",
      "Epoch 12/30\n",
      "4507301/4507301 [==============================] - 1265s 281us/step - loss: 0.8043 - mean_absolute_error: 0.6936 - val_loss: 0.8044 - val_mean_absolute_error: 0.6923\n",
      "\n",
      "Epoch 00012: val_loss improved from 0.80562 to 0.80438, saving model to citations_text_model_epoch_no.012-2-17-20.h5\n",
      "Epoch 13/30\n",
      "4507301/4507301 [==============================] - 1272s 282us/step - loss: 0.8033 - mean_absolute_error: 0.6927 - val_loss: 0.8042 - val_mean_absolute_error: 0.6920\n",
      "\n",
      "Epoch 00013: val_loss improved from 0.80438 to 0.80424, saving model to citations_text_model_epoch_no.013-2-17-20.h5\n",
      "Epoch 14/30\n",
      "4507301/4507301 [==============================] - 1248s 277us/step - loss: 0.8027 - mean_absolute_error: 0.6923 - val_loss: 0.8033 - val_mean_absolute_error: 0.6911\n",
      "\n",
      "Epoch 00014: val_loss improved from 0.80424 to 0.80332, saving model to citations_text_model_epoch_no.014-2-17-20.h5\n",
      "Epoch 15/30\n",
      "4507301/4507301 [==============================] - 1256s 279us/step - loss: 0.8021 - mean_absolute_error: 0.6920 - val_loss: 0.8028 - val_mean_absolute_error: 0.6923\n",
      "\n",
      "Epoch 00015: val_loss improved from 0.80332 to 0.80283, saving model to citations_text_model_epoch_no.015-2-17-20.h5\n",
      "Epoch 16/30\n",
      "4507301/4507301 [==============================] - 1275s 283us/step - loss: 0.8017 - mean_absolute_error: 0.6917 - val_loss: 0.8031 - val_mean_absolute_error: 0.6931\n",
      "\n",
      "Epoch 00016: val_loss did not improve from 0.80283\n",
      "Epoch 17/30\n",
      "4507301/4507301 [==============================] - 1268s 281us/step - loss: 0.8013 - mean_absolute_error: 0.6915 - val_loss: 0.8017 - val_mean_absolute_error: 0.6901\n",
      "\n",
      "Epoch 00017: val_loss improved from 0.80283 to 0.80168, saving model to citations_text_model_epoch_no.017-2-17-20.h5\n",
      "Epoch 18/30\n",
      "4507301/4507301 [==============================] - 1252s 278us/step - loss: 0.8009 - mean_absolute_error: 0.6913 - val_loss: 0.8003 - val_mean_absolute_error: 0.6908\n",
      "\n",
      "Epoch 00018: val_loss improved from 0.80168 to 0.80035, saving model to citations_text_model_epoch_no.018-2-17-20.h5\n",
      "Epoch 19/30\n",
      "4507301/4507301 [==============================] - 1273s 282us/step - loss: 0.8007 - mean_absolute_error: 0.6911 - val_loss: 0.8005 - val_mean_absolute_error: 0.6900\n",
      "\n",
      "Epoch 00019: val_loss did not improve from 0.80035\n",
      "Epoch 20/30\n",
      "4507301/4507301 [==============================] - 1274s 283us/step - loss: 0.8005 - mean_absolute_error: 0.6909 - val_loss: 0.8019 - val_mean_absolute_error: 0.6925\n",
      "\n",
      "Epoch 00020: ReduceLROnPlateau reducing learning rate to 1.0000000474974514e-05.\n",
      "\n",
      "Epoch 00020: val_loss did not improve from 0.80035\n",
      "Epoch 21/30\n",
      "4507301/4507301 [==============================] - 1266s 281us/step - loss: 0.7973 - mean_absolute_error: 0.6884 - val_loss: 0.7977 - val_mean_absolute_error: 0.6880\n",
      "\n",
      "Epoch 00021: val_loss improved from 0.80035 to 0.79771, saving model to citations_text_model_epoch_no.021-2-17-20.h5\n",
      "Epoch 22/30\n",
      "4507301/4507301 [==============================] - 1276s 283us/step - loss: 0.7968 - mean_absolute_error: 0.6880 - val_loss: 0.7974 - val_mean_absolute_error: 0.6875\n",
      "\n",
      "Epoch 00022: val_loss improved from 0.79771 to 0.79745, saving model to citations_text_model_epoch_no.022-2-17-20.h5\n",
      "Epoch 23/30\n",
      "4507301/4507301 [==============================] - 1276s 283us/step - loss: 0.7966 - mean_absolute_error: 0.6878 - val_loss: 0.7971 - val_mean_absolute_error: 0.6873\n",
      "\n",
      "Epoch 00023: val_loss improved from 0.79745 to 0.79709, saving model to citations_text_model_epoch_no.023-2-17-20.h5\n",
      "Epoch 24/30\n",
      "4507301/4507301 [==============================] - 1272s 282us/step - loss: 0.7964 - mean_absolute_error: 0.6877 - val_loss: 0.7971 - val_mean_absolute_error: 0.6878\n",
      "\n",
      "Epoch 00024: val_loss improved from 0.79709 to 0.79706, saving model to citations_text_model_epoch_no.024-2-17-20.h5\n",
      "Epoch 25/30\n",
      "4507301/4507301 [==============================] - 1202s 267us/step - loss: 0.7963 - mean_absolute_error: 0.6877 - val_loss: 0.7969 - val_mean_absolute_error: 0.6870\n",
      "\n",
      "Epoch 00025: val_loss improved from 0.79706 to 0.79692, saving model to citations_text_model_epoch_no.025-2-17-20.h5\n",
      "Epoch 26/30\n",
      "4507301/4507301 [==============================] - 1225s 272us/step - loss: 0.7962 - mean_absolute_error: 0.6876 - val_loss: 0.7969 - val_mean_absolute_error: 0.6874\n",
      "\n",
      "Epoch 00026: val_loss improved from 0.79692 to 0.79686, saving model to citations_text_model_epoch_no.026-2-17-20.h5\n",
      "Epoch 27/30\n",
      "4507301/4507301 [==============================] - 1187s 263us/step - loss: 0.7961 - mean_absolute_error: 0.6875 - val_loss: 0.7967 - val_mean_absolute_error: 0.6870\n",
      "\n",
      "Epoch 00027: val_loss improved from 0.79686 to 0.79669, saving model to citations_text_model_epoch_no.027-2-17-20.h5\n",
      "Epoch 28/30\n",
      "4507301/4507301 [==============================] - 1152s 256us/step - loss: 0.7960 - mean_absolute_error: 0.6875 - val_loss: 0.7966 - val_mean_absolute_error: 0.6869\n",
      "\n",
      "Epoch 00028: val_loss improved from 0.79669 to 0.79664, saving model to citations_text_model_epoch_no.028-2-17-20.h5\n",
      "Epoch 29/30\n",
      "4507301/4507301 [==============================] - 1154s 256us/step - loss: 0.7959 - mean_absolute_error: 0.6875 - val_loss: 0.7965 - val_mean_absolute_error: 0.6873\n",
      "\n",
      "Epoch 00029: val_loss improved from 0.79664 to 0.79652, saving model to citations_text_model_epoch_no.029-2-17-20.h5\n",
      "Epoch 30/30\n",
      "4507301/4507301 [==============================] - 1096s 243us/step - loss: 0.7958 - mean_absolute_error: 0.6874 - val_loss: 0.7966 - val_mean_absolute_error: 0.6878\n",
      "\n",
      "Epoch 00030: val_loss did not improve from 0.79652\n"
     ]
    }
   ],
   "source": [
    "# Create our callbacks and train\n",
    "\n",
    "callbacks = [EarlyStopping(monitor='val_loss',\n",
    "                           patience=3,\n",
    "                           verbose=1,\n",
    "                           mode='min',\n",
    "                           restore_best_weights=True),\n",
    "             ReduceLROnPlateau(monitor='val_loss',\n",
    "                               factor=0.1,\n",
    "                               patience=2,\n",
    "                               verbose=1,\n",
    "                               mode='auto',\n",
    "                               min_lr=1e-5),\n",
    "             ModelCheckpoint(\"citations_text_model_epoch_no.{epoch:03d}-2-17-20.h5\",\n",
    "                             monitor='val_loss',\n",
    "                             verbose=1,\n",
    "                             save_best_only=True,\n",
    "                             save_weights_only=False,\n",
    "                             mode='min',\n",
    "                             period=1),\n",
    "             CSVLogger('citations_text_training-2-17-20.log')]\n",
    "    \n",
    "result = model.fit(train_x,\n",
    "                   train_y,\n",
    "                   batch_size=16,\n",
    "                   epochs=30,\n",
    "                   verbose=1,\n",
    "                   callbacks=callbacks,\n",
    "                   validation_split=0.05)"
   ]
  },
  {
   "cell_type": "code",
   "execution_count": 8,
   "metadata": {},
   "outputs": [
    {
     "data": {
      "image/png": "[encoded data removed]",
      "text/plain": [
       "<Figure size 432x288 with 1 Axes>"
      ]
     },
     "metadata": {
      "needs_background": "light"
     },
     "output_type": "display_data"
    }
   ],
   "source": [
    "# Loss plot\n",
    "plt.plot(result.history['loss'])\n",
    "plt.plot(result.history['val_loss'])\n",
    "plt.title('model loss')\n",
    "plt.ylabel('loss')\n",
    "plt.xlabel('epoch')\n",
    "plt.legend(['train', 'validation'], loc='upper left')\n",
    "plt.show()"
   ]
  },
  {
   "cell_type": "code",
   "execution_count": 9,
   "metadata": {},
   "outputs": [
    {
     "data": {
      "image/png": "[encoded data removed]",
      "text/plain": [
       "<Figure size 432x288 with 1 Axes>"
      ]
     },
     "metadata": {
      "needs_background": "light"
     },
     "output_type": "display_data"
    }
   ],
   "source": [
    "# MAE plot\n",
    "plt.plot(result.history['mean_absolute_error'])\n",
    "plt.plot(result.history['val_mean_absolute_error'])\n",
    "plt.title('model MAE')\n",
    "plt.ylabel('MAE')\n",
    "plt.xlabel('epoch')\n",
    "plt.legend(['train', 'validation'], loc='upper left')\n",
    "plt.show()"
   ]
  },
  {
   "cell_type": "markdown",
   "metadata": {},
   "source": [
    "As with the training for patent counts, this training was erratic and also started overfitting very quickly. The width and depth of the layers that hyperas chose worked well but the adaptive optimizer could not handle the data and a learning rate reduction schedule was necessary. In retrospect, I may have used a learning rate range test to find a good learning rate."
   ]
  },
  {
   "cell_type": "code",
   "execution_count": 10,
   "metadata": {},
   "outputs": [
    {
     "name": "stdout",
     "output_type": "stream",
     "text": [
      "249713/249713 [==============================] - 8s 33us/step\n",
      "[0.7974384146170007, 0.6879178053164676]\n"
     ]
    }
   ],
   "source": [
    "from keras.models import load_model\n",
    "model1 = load_model('citations_text_model_epoch_no.029-2-17-20.h5')\n",
    "print(model1.evaluate(test_x, test_y))"
   ]
  },
  {
   "cell_type": "markdown",
   "metadata": {},
   "source": [
    "The loss and MAE of this epoch of training are 0.79 and 0.68, respectively, much higher than those for the patent count training but most of the patents had at least a couple of citations. Since the margin of error is around 2 patents (these are logs), pay attention to these results if they start predicting 3 or more citations for a patent based on the description text simiarity with the patents of peer companies--that indicates quality, which leads to value."
   ]
  }
 ],
 "metadata": {
  "kernelspec": {
   "display_name": "Python 3",
   "language": "python",
   "name": "python3"
  },
  "language_info": {
   "codemirror_mode": {
    "name": "ipython",
    "version": 3
   },
   "file_extension": ".py",
   "mimetype": "text/x-python",
   "name": "python",
   "nbconvert_exporter": "python",
   "pygments_lexer": "ipython3",
   "version": "3.7.6"
  },
  "toc": {
   "base_numbering": 1,
   "nav_menu": {},
   "number_sections": true,
   "sideBar": true,
   "skip_h1_title": false,
   "title_cell": "Table of Contents",
   "title_sidebar": "Contents",
   "toc_cell": false,
   "toc_position": {},
   "toc_section_display": true,
   "toc_window_display": false
  },
  "varInspector": {
   "cols": {
    "lenName": 16,
    "lenType": 16,
    "lenVar": 40
   },
   "kernels_config": {
    "python": {
     "delete_cmd_postfix": "",
     "delete_cmd_prefix": "del ",
     "library": "var_list.py",
     "varRefreshCmd": "print(var_dic_list())"
    },
    "r": {
     "delete_cmd_postfix": ") ",
     "delete_cmd_prefix": "rm(",
     "library": "var_list.r",
     "varRefreshCmd": "cat(var_dic_list()) "
    }
   },
   "types_to_exclude": [
    "module",
    "function",
    "builtin_function_or_method",
    "instance",
    "_Feature"
   ],
   "window_display": false
  }
 },
 "nbformat": 4,
 "nbformat_minor": 2
}
