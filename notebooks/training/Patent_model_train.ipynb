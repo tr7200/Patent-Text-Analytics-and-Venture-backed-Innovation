{
 "cells": [
  {
   "cell_type": "markdown",
   "metadata": {},
   "source": [
    "# Patent count training\n",
    "\n"
   ]
  },
  {
   "cell_type": "code",
   "execution_count": 1,
   "metadata": {},
   "outputs": [
    {
     "name": "stderr",
     "output_type": "stream",
     "text": [
      "Using TensorFlow backend.\n"
     ]
    }
   ],
   "source": [
    "from __future__ import print_function\n",
    "\n",
    "import os\n",
    "\n",
    "import subprocess\n",
    "import platform\n",
    "import datetime as dt\n",
    "import pickle, joblib\n",
    "\n",
    "import numpy as np\n",
    "from pandas import read_csv\n",
    "\n",
    "import keras\n",
    "from keras.callbacks import (ModelCheckpoint, \n",
    "                             CSVLogger, \n",
    "                             EarlyStopping, \n",
    "                             ReduceLROnPlateau)\n",
    "from keras.layers.core import Dense, Activation\n",
    "from keras.layers import PReLU\n",
    "from keras.models import Sequential, load_model \n",
    "from keras.utils import np_utils\n",
    "from keras import regularizers, optimizers\n",
    "import keras.backend as K\n",
    " \n",
    "from sklearn.model_selection import train_test_split\n",
    "from sklearn.preprocessing import MinMaxScaler\n",
    "\n",
    "import matplotlib.pyplot as plt\n",
    "%matplotlib inline\n",
    "\n",
    "np.random.seed(1)"
   ]
  },
  {
   "cell_type": "code",
   "execution_count": 2,
   "metadata": {},
   "outputs": [],
   "source": [
    "# Reproducibility code\n",
    "# from: https://making.dia.com/abc-always-be-benchmarking-5854252fc6b1\n",
    "\n",
    "# save python environment when run\n",
    "open('Keras_patent_text_training_environment-2-14-20.txt', 'wb').write(subprocess.check_output(['pip', 'list']))\n",
    "# underlying platform\n",
    "system = platform.uname()\n",
    "# python version\n",
    "python_version = platform.python_version()\n",
    "# date and time of run\n",
    "date = dt.datetime.today().strftime(\"%Y-%m-%d %H:%M:%S\")\n",
    "\n",
    "config = {\n",
    "    'system': system,\n",
    "    'python_version': python_version,\n",
    "    'date': date\n",
    "}\n",
    "\n",
    "pickle.dump(config, open('Keras_patent_text_training_config-2-14-20.p', 'wb'))"
   ]
  },
  {
   "cell_type": "code",
   "execution_count": 3,
   "metadata": {},
   "outputs": [],
   "source": [
    "# Using AMD gpu with PlaidML and Metal\n",
    "os.environ[\"KERAS_BACKEND\"] = \"plaidml.keras.backend\""
   ]
  },
  {
   "cell_type": "code",
   "execution_count": 4,
   "metadata": {},
   "outputs": [],
   "source": [
    "def data(features: str=None, \n",
    "         target: str=None):\n",
    "    \"\"\"Import data, drop ids, scale data between 0 and 1 for activation functions\"\"\"\n",
    "    indep_variables = read_csv(indep_variables, header = 0)\n",
    "    target = read_csv(target, header = 0)\n",
    "    train_x, test_x, train_y, test_y= train_test_split(indep_variables, target, test_size = 0.05, random_state = 1)\n",
    "    x_scaler = MinMaxScaler().fit(train_x)\n",
    "    train_x = x_scaler.transform(train_x)\n",
    "    test_x = x_scaler.transform(test_x)\n",
    "    joblib.dump(x_scaler, \"Patent_text_cosine_similarity_training_MinMaxScaler.save\")\n",
    "    \n",
    "    return train_x, train_y, test_x, test_y"
   ]
  },
  {
   "cell_type": "code",
   "execution_count": 5,
   "metadata": {},
   "outputs": [],
   "source": [
    "# Load data\n",
    "FEATURES = '../Patent_text_independent_variables-11-13-19.csv'\n",
    "TARGET = '../Patent_count_y-11-13-19.csv'\n",
    "\n",
    "train_x, train_y, test_x, test_y = data(FEATURES, TARGET)"
   ]
  },
  {
   "cell_type": "code",
   "execution_count": 6,
   "metadata": {},
   "outputs": [],
   "source": [
    "def patent_value_loss(y_true, y_pred):\n",
    "  '''patent value metric fcn must be present at time of prediction'''\n",
    "\n",
    "  patent_value_loss = K.abs(1 - K.exp(y_true - y_pred)) * 50000\n",
    "    \n",
    "  return patent_value_loss"
   ]
  },
  {
   "cell_type": "code",
   "execution_count": 7,
   "metadata": {},
   "outputs": [
    {
     "name": "stdout",
     "output_type": "stream",
     "text": [
      "WARNING:tensorflow:From /Users/trogers/opt/anaconda3/envs/keras-env/lib/python3.7/site-packages/keras/backend/tensorflow_backend.py:74: The name tf.get_default_graph is deprecated. Please use tf.compat.v1.get_default_graph instead.\n",
      "\n",
      "WARNING:tensorflow:From /Users/trogers/opt/anaconda3/envs/keras-env/lib/python3.7/site-packages/keras/backend/tensorflow_backend.py:517: The name tf.placeholder is deprecated. Please use tf.compat.v1.placeholder instead.\n",
      "\n",
      "WARNING:tensorflow:From /Users/trogers/opt/anaconda3/envs/keras-env/lib/python3.7/site-packages/keras/backend/tensorflow_backend.py:4185: The name tf.truncated_normal is deprecated. Please use tf.random.truncated_normal instead.\n",
      "\n",
      "WARNING:tensorflow:From /Users/trogers/opt/anaconda3/envs/keras-env/lib/python3.7/site-packages/keras/optimizers.py:790: The name tf.train.Optimizer is deprecated. Please use tf.compat.v1.train.Optimizer instead.\n",
      "\n"
     ]
    }
   ],
   "source": [
    "\"\"\"\n",
    "Instantiate a model - the architectural choices chosen by Hyperas\n",
    "led to erratic loss during training, this is slightly different\n",
    "\n",
    "The loss function is MSE, which is more appropriate for a \n",
    "logarithmic dependent variable, and MAE is included as a metric \n",
    "since it is more robust to outliers.\n",
    "\"\"\" \n",
    "\n",
    "model = Sequential() \n",
    "model.add(Dense(31, input_shape=(31,), kernel_initializer='he_normal'))\n",
    "model.add(keras.layers.PReLU())\n",
    "model.add(Dense(26, kernel_initializer='he_normal'))\n",
    "model.add(keras.layers.PReLU())\n",
    "model.add(Dense(24, kernel_initializer='he_normal'))\n",
    "model.add(keras.layers.PReLU())    \n",
    "model.add(Dense(20, kernel_initializer='he_normal'))\n",
    "model.add(keras.layers.PReLU())\n",
    "model.add(Dense(18, kernel_initializer='he_normal'))\n",
    "model.add(keras.layers.PReLU())\n",
    "model.add(Dense(14, kernel_initializer='he_normal'))\n",
    "model.add(keras.layers.PReLU())\n",
    "model.add(Dense(6, kernel_initializer='he_normal'))\n",
    "model.add(keras.layers.PReLU())\n",
    "model.add(Dense(8, kernel_initializer='he_normal'))\n",
    "model.add(keras.layers.PReLU())\n",
    "model.add(Dense(1, kernel_initializer='he_normal'))\n",
    "    \n",
    "model.compile(loss='mean_squared_error', \n",
    "              metrics=['mae', \n",
    "                       patent_value_loss], \n",
    "              optimizer='adam')"
   ]
  },
  {
   "cell_type": "code",
   "execution_count": 8,
   "metadata": {},
   "outputs": [
    {
     "name": "stdout",
     "output_type": "stream",
     "text": [
      "WARNING:tensorflow:From /Users/trogers/opt/anaconda3/envs/keras-env/lib/python3.7/site-packages/keras/backend/tensorflow_backend.py:986: The name tf.assign_add is deprecated. Please use tf.compat.v1.assign_add instead.\n",
      "\n",
      "WARNING:tensorflow:From /Users/trogers/opt/anaconda3/envs/keras-env/lib/python3.7/site-packages/keras/backend/tensorflow_backend.py:973: The name tf.assign is deprecated. Please use tf.compat.v1.assign instead.\n",
      "\n",
      "WARNING:tensorflow:From /Users/trogers/opt/anaconda3/envs/keras-env/lib/python3.7/site-packages/keras/backend/tensorflow_backend.py:2741: The name tf.Session is deprecated. Please use tf.compat.v1.Session instead.\n",
      "\n",
      "Train on 4507301 samples, validate on 237227 samples\n",
      "Epoch 1/30\n",
      "WARNING:tensorflow:From /Users/trogers/opt/anaconda3/envs/keras-env/lib/python3.7/site-packages/keras/backend/tensorflow_backend.py:174: The name tf.get_default_session is deprecated. Please use tf.compat.v1.get_default_session instead.\n",
      "\n",
      "WARNING:tensorflow:From /Users/trogers/opt/anaconda3/envs/keras-env/lib/python3.7/site-packages/keras/backend/tensorflow_backend.py:181: The name tf.ConfigProto is deprecated. Please use tf.compat.v1.ConfigProto instead.\n",
      "\n",
      "WARNING:tensorflow:From /Users/trogers/opt/anaconda3/envs/keras-env/lib/python3.7/site-packages/keras/backend/tensorflow_backend.py:190: The name tf.global_variables is deprecated. Please use tf.compat.v1.global_variables instead.\n",
      "\n",
      "WARNING:tensorflow:From /Users/trogers/opt/anaconda3/envs/keras-env/lib/python3.7/site-packages/keras/backend/tensorflow_backend.py:199: The name tf.is_variable_initialized is deprecated. Please use tf.compat.v1.is_variable_initialized instead.\n",
      "\n",
      "WARNING:tensorflow:From /Users/trogers/opt/anaconda3/envs/keras-env/lib/python3.7/site-packages/keras/backend/tensorflow_backend.py:206: The name tf.variables_initializer is deprecated. Please use tf.compat.v1.variables_initializer instead.\n",
      "\n",
      "4507301/4507301 [==============================] - 1187s 263us/step - loss: 0.0778 - mean_absolute_error: 0.2021 - patent_value_loss: 9866.7146 - val_loss: 0.0676 - val_mean_absolute_error: 0.1812 - val_patent_value_loss: 8598.1545\n",
      "\n",
      "Epoch 00001: val_loss improved from inf to 0.06755, saving model to patent_text_model_epoch_no.001-2-14-20.h5\n",
      "Epoch 2/30\n",
      "4507301/4507301 [==============================] - 1080s 240us/step - loss: 0.0675 - mean_absolute_error: 0.1842 - patent_value_loss: 8907.0244 - val_loss: 0.0654 - val_mean_absolute_error: 0.1850 - val_patent_value_loss: 8896.8103\n",
      "\n",
      "Epoch 00002: val_loss improved from 0.06755 to 0.06544, saving model to patent_text_model_epoch_no.002-2-14-20.h5\n",
      "Epoch 3/30\n",
      "4507301/4507301 [==============================] - 1094s 243us/step - loss: 0.0661 - mean_absolute_error: 0.1814 - patent_value_loss: 8747.6374 - val_loss: 0.0659 - val_mean_absolute_error: 0.1848 - val_patent_value_loss: 9122.4379\n",
      "\n",
      "Epoch 00003: val_loss did not improve from 0.06544\n",
      "Epoch 4/30\n",
      "4507301/4507301 [==============================] - 1227s 272us/step - loss: 0.0652 - mean_absolute_error: 0.1795 - patent_value_loss: 8643.0388 - val_loss: 0.0645 - val_mean_absolute_error: 0.1777 - val_patent_value_loss: 8475.3271\n",
      "\n",
      "Epoch 00004: val_loss improved from 0.06544 to 0.06446, saving model to patent_text_model_epoch_no.004-2-14-20.h5\n",
      "Epoch 5/30\n",
      "4507301/4507301 [==============================] - 1267s 281us/step - loss: 0.0649 - mean_absolute_error: 0.1791 - patent_value_loss: 8622.7263 - val_loss: 0.0653 - val_mean_absolute_error: 0.1797 - val_patent_value_loss: 8553.6369\n",
      "\n",
      "Epoch 00005: val_loss did not improve from 0.06446\n",
      "Epoch 6/30\n",
      "4507301/4507301 [==============================] - 1272s 282us/step - loss: 0.0649 - mean_absolute_error: 0.1788 - patent_value_loss: 8605.5534 - val_loss: 0.0638 - val_mean_absolute_error: 0.1746 - val_patent_value_loss: 8353.8066\n",
      "\n",
      "Epoch 00006: val_loss improved from 0.06446 to 0.06380, saving model to patent_text_model_epoch_no.006-2-14-20.h5\n",
      "Epoch 7/30\n",
      "4507301/4507301 [==============================] - 1273s 283us/step - loss: 0.0646 - mean_absolute_error: 0.1781 - patent_value_loss: 8566.8587 - val_loss: 0.0641 - val_mean_absolute_error: 0.1764 - val_patent_value_loss: 8585.2631\n",
      "\n",
      "Epoch 00007: val_loss did not improve from 0.06380\n",
      "Epoch 8/30\n",
      "4507301/4507301 [==============================] - 1284s 285us/step - loss: 0.0643 - mean_absolute_error: 0.1778 - patent_value_loss: 8549.7402 - val_loss: 0.0633 - val_mean_absolute_error: 0.1760 - val_patent_value_loss: 8529.4512\n",
      "\n",
      "Epoch 00008: val_loss improved from 0.06380 to 0.06327, saving model to patent_text_model_epoch_no.008-2-14-20.h5\n",
      "Epoch 9/30\n",
      "4507301/4507301 [==============================] - 1262s 280us/step - loss: 0.0641 - mean_absolute_error: 0.1774 - patent_value_loss: 8529.0195 - val_loss: 0.0634 - val_mean_absolute_error: 0.1762 - val_patent_value_loss: 8395.9536\n",
      "\n",
      "Epoch 00009: val_loss did not improve from 0.06327\n",
      "Epoch 10/30\n",
      "4507301/4507301 [==============================] - 1257s 279us/step - loss: 0.0641 - mean_absolute_error: 0.1777 - patent_value_loss: 8543.5884 - val_loss: 0.0657 - val_mean_absolute_error: 0.1782 - val_patent_value_loss: 8422.6605\n",
      "\n",
      "Epoch 00010: ReduceLROnPlateau reducing learning rate to 0.00010000000474974513.\n",
      "\n",
      "Epoch 00010: val_loss did not improve from 0.06327\n",
      "Epoch 11/30\n",
      "4507301/4507301 [==============================] - 1269s 282us/step - loss: 0.0615 - mean_absolute_error: 0.1721 - patent_value_loss: 8242.2825 - val_loss: 0.0612 - val_mean_absolute_error: 0.1709 - val_patent_value_loss: 8171.8039\n",
      "\n",
      "Epoch 00011: val_loss improved from 0.06327 to 0.06117, saving model to patent_text_model_epoch_no.011-2-14-20.h5\n",
      "Epoch 12/30\n",
      "4507301/4507301 [==============================] - 1275s 283us/step - loss: 0.0612 - mean_absolute_error: 0.1709 - patent_value_loss: 8186.0515 - val_loss: 0.0610 - val_mean_absolute_error: 0.1723 - val_patent_value_loss: 8312.5594\n",
      "\n",
      "Epoch 00012: val_loss improved from 0.06117 to 0.06100, saving model to patent_text_model_epoch_no.012-2-14-20.h5\n",
      "Epoch 13/30\n",
      "4507301/4507301 [==============================] - 1287s 286us/step - loss: 0.0610 - mean_absolute_error: 0.1705 - patent_value_loss: 8167.8098 - val_loss: 0.0609 - val_mean_absolute_error: 0.1691 - val_patent_value_loss: 8024.6244\n",
      "\n",
      "Epoch 00013: val_loss improved from 0.06100 to 0.06092, saving model to patent_text_model_epoch_no.013-2-14-20.h5\n",
      "Epoch 14/30\n",
      "4507301/4507301 [==============================] - 1262s 280us/step - loss: 0.0610 - mean_absolute_error: 0.1703 - patent_value_loss: 8155.6478 - val_loss: 0.0607 - val_mean_absolute_error: 0.1691 - val_patent_value_loss: 8078.6444\n",
      "\n",
      "Epoch 00014: val_loss improved from 0.06092 to 0.06070, saving model to patent_text_model_epoch_no.014-2-14-20.h5\n",
      "Epoch 15/30\n",
      "4507301/4507301 [==============================] - 1260s 279us/step - loss: 0.0609 - mean_absolute_error: 0.1701 - patent_value_loss: 8148.6413 - val_loss: 0.0608 - val_mean_absolute_error: 0.1678 - val_patent_value_loss: 7943.4077\n",
      "\n",
      "Epoch 00015: val_loss did not improve from 0.06070\n",
      "Epoch 16/30\n",
      "4507301/4507301 [==============================] - 1277s 283us/step - loss: 0.0609 - mean_absolute_error: 0.1701 - patent_value_loss: 8146.1140 - val_loss: 0.0606 - val_mean_absolute_error: 0.1694 - val_patent_value_loss: 8116.6971\n",
      "\n",
      "Epoch 00016: ReduceLROnPlateau reducing learning rate to 1.0000000474974514e-05.\n",
      "\n",
      "Epoch 00016: val_loss improved from 0.06070 to 0.06062, saving model to patent_text_model_epoch_no.016-2-14-20.h5\n",
      "Epoch 17/30\n",
      "4507301/4507301 [==============================] - 1269s 282us/step - loss: 0.0605 - mean_absolute_error: 0.1689 - patent_value_loss: 8081.4204 - val_loss: 0.0603 - val_mean_absolute_error: 0.1684 - val_patent_value_loss: 8049.4901\n",
      "\n",
      "Epoch 00017: val_loss improved from 0.06062 to 0.06030, saving model to patent_text_model_epoch_no.017-2-14-20.h5\n",
      "Epoch 18/30\n",
      "4507301/4507301 [==============================] - 1270s 282us/step - loss: 0.0604 - mean_absolute_error: 0.1687 - patent_value_loss: 8076.9729 - val_loss: 0.0603 - val_mean_absolute_error: 0.1683 - val_patent_value_loss: 8042.6125\n",
      "\n",
      "Epoch 00018: val_loss improved from 0.06030 to 0.06028, saving model to patent_text_model_epoch_no.018-2-14-20.h5\n",
      "Epoch 19/30\n",
      "4507301/4507301 [==============================] - 1269s 282us/step - loss: 0.0604 - mean_absolute_error: 0.1687 - patent_value_loss: 8075.5531 - val_loss: 0.0603 - val_mean_absolute_error: 0.1696 - val_patent_value_loss: 8158.5584\n",
      "\n",
      "Epoch 00019: ReduceLROnPlateau reducing learning rate to 1e-05.\n",
      "\n",
      "Epoch 00019: val_loss improved from 0.06028 to 0.06026, saving model to patent_text_model_epoch_no.019-2-14-20.h5\n",
      "Epoch 20/30\n",
      "4507301/4507301 [==============================] - 1268s 281us/step - loss: 0.0604 - mean_absolute_error: 0.1687 - patent_value_loss: 8074.2998 - val_loss: 0.0602 - val_mean_absolute_error: 0.1691 - val_patent_value_loss: 8114.9046\n",
      "\n",
      "Epoch 00020: val_loss improved from 0.06026 to 0.06023, saving model to patent_text_model_epoch_no.020-2-14-20.h5\n",
      "Epoch 21/30\n",
      "4507301/4507301 [==============================] - 1252s 278us/step - loss: 0.0603 - mean_absolute_error: 0.1686 - patent_value_loss: 8073.1329 - val_loss: 0.0602 - val_mean_absolute_error: 0.1683 - val_patent_value_loss: 8064.6934\n",
      "\n",
      "Epoch 00021: val_loss improved from 0.06023 to 0.06021, saving model to patent_text_model_epoch_no.021-2-14-20.h5\n",
      "Epoch 22/30\n",
      "4507301/4507301 [==============================] - 1282s 285us/step - loss: 0.0603 - mean_absolute_error: 0.1686 - patent_value_loss: 8071.4584 - val_loss: 0.0602 - val_mean_absolute_error: 0.1678 - val_patent_value_loss: 8015.3341\n",
      "\n",
      "Epoch 00022: val_loss did not improve from 0.06021\n",
      "Epoch 23/30\n",
      "4507301/4507301 [==============================] - 1290s 286us/step - loss: 0.0603 - mean_absolute_error: 0.1686 - patent_value_loss: 8070.3171 - val_loss: 0.0602 - val_mean_absolute_error: 0.1683 - val_patent_value_loss: 8062.3933\n",
      "\n",
      "Epoch 00023: val_loss improved from 0.06021 to 0.06018, saving model to patent_text_model_epoch_no.023-2-14-20.h5\n",
      "Epoch 24/30\n",
      "4507301/4507301 [==============================] - 1267s 281us/step - loss: 0.0603 - mean_absolute_error: 0.1686 - patent_value_loss: 8069.4331 - val_loss: 0.0602 - val_mean_absolute_error: 0.1685 - val_patent_value_loss: 8080.0106\n",
      "\n",
      "Epoch 00024: val_loss improved from 0.06018 to 0.06017, saving model to patent_text_model_epoch_no.024-2-14-20.h5\n",
      "Epoch 25/30\n",
      "4507301/4507301 [==============================] - 1195s 265us/step - loss: 0.0603 - mean_absolute_error: 0.1685 - patent_value_loss: 8067.3429 - val_loss: 0.0602 - val_mean_absolute_error: 0.1686 - val_patent_value_loss: 8074.8956\n",
      "\n",
      "Epoch 00025: val_loss improved from 0.06017 to 0.06016, saving model to patent_text_model_epoch_no.025-2-14-20.h5\n",
      "Epoch 26/30\n",
      "4507301/4507301 [==============================] - 1179s 262us/step - loss: 0.0603 - mean_absolute_error: 0.1685 - patent_value_loss: 8065.9717 - val_loss: 0.0601 - val_mean_absolute_error: 0.1681 - val_patent_value_loss: 8040.1176\n",
      "\n",
      "Epoch 00026: val_loss improved from 0.06016 to 0.06014, saving model to patent_text_model_epoch_no.026-2-14-20.h5\n",
      "Epoch 27/30\n",
      "4507301/4507301 [==============================] - 1059s 235us/step - loss: 0.0603 - mean_absolute_error: 0.1685 - patent_value_loss: 8064.2521 - val_loss: 0.0602 - val_mean_absolute_error: 0.1695 - val_patent_value_loss: 8156.1098\n",
      "\n",
      "Epoch 00027: val_loss did not improve from 0.06014\n",
      "Epoch 28/30\n",
      "4507301/4507301 [==============================] - 1144s 254us/step - loss: 0.0602 - mean_absolute_error: 0.1684 - patent_value_loss: 8062.6900 - val_loss: 0.0601 - val_mean_absolute_error: 0.1678 - val_patent_value_loss: 8025.5361\n",
      "\n",
      "Epoch 00028: val_loss did not improve from 0.06014\n",
      "Epoch 29/30\n",
      "4507301/4507301 [==============================] - 1218s 270us/step - loss: 0.0602 - mean_absolute_error: 0.1684 - patent_value_loss: 8061.8468 - val_loss: 0.0601 - val_mean_absolute_error: 0.1685 - val_patent_value_loss: 8081.5226\n",
      "\n",
      "Epoch 00029: val_loss improved from 0.06014 to 0.06013, saving model to patent_text_model_epoch_no.029-2-14-20.h5\n",
      "Epoch 30/30\n",
      "4507301/4507301 [==============================] - 1218s 270us/step - loss: 0.0602 - mean_absolute_error: 0.1684 - patent_value_loss: 8060.9052 - val_loss: 0.0601 - val_mean_absolute_error: 0.1677 - val_patent_value_loss: 8022.3480\n",
      "\n",
      "Epoch 00030: val_loss improved from 0.06013 to 0.06012, saving model to patent_text_model_epoch_no.030-2-14-20.h5\n"
     ]
    }
   ],
   "source": [
    "# Create our callbacks and train\n",
    "\n",
    "callbacks = [EarlyStopping(monitor='val_loss',\n",
    "                           patience=3,\n",
    "                           verbose=1,\n",
    "                           mode='min',\n",
    "                           restore_best_weights=True),\n",
    "             ReduceLROnPlateau(monitor='val_loss',\n",
    "                               factor=0.1,\n",
    "                               patience=2,\n",
    "                               verbose=1,\n",
    "                               mode='auto',\n",
    "                               min_lr=1e-5),\n",
    "             ModelCheckpoint(\"patent_text_model_epoch_no.{epoch:03d}-2-14-20.h5\",\n",
    "                             monitor='val_loss',\n",
    "                             verbose=1,\n",
    "                             save_best_only=True,\n",
    "                             save_weights_only=False,\n",
    "                             mode='min',\n",
    "                             period=1),\n",
    "             CSVLogger('patent_text_training-2-14-20.log')]\n",
    "    \n",
    "result = model.fit(train_x,\n",
    "                   train_y,\n",
    "                   batch_size=16,\n",
    "                   epochs=30,\n",
    "                   verbose=1,\n",
    "                   callbacks=callbacks,\n",
    "                   validation_split=0.05)"
   ]
  },
  {
   "cell_type": "code",
   "execution_count": 9,
   "metadata": {},
   "outputs": [
    {
     "data": {
      "image/png": "[encoded data removed]",
      "text/plain": [
       "<Figure size 432x288 with 1 Axes>"
      ]
     },
     "metadata": {
      "needs_background": "light"
     },
     "output_type": "display_data"
    }
   ],
   "source": [
    "# Loss plot\n",
    "plt.plot(result.history['loss'])\n",
    "plt.plot(result.history['val_loss'])\n",
    "plt.title('model loss')\n",
    "plt.ylabel('loss')\n",
    "plt.xlabel('epoch')\n",
    "plt.legend(['train', 'validation'], loc='upper left')\n",
    "plt.show()"
   ]
  },
  {
   "cell_type": "code",
   "execution_count": 10,
   "metadata": {},
   "outputs": [
    {
     "data": {
      "image/png": "[encoded data removed]",
      "text/plain": [
       "<Figure size 432x288 with 1 Axes>"
      ]
     },
     "metadata": {
      "needs_background": "light"
     },
     "output_type": "display_data"
    }
   ],
   "source": [
    "# MAE plot\n",
    "plt.plot(result.history['mean_absolute_error'])\n",
    "plt.plot(result.history['val_mean_absolute_error'])\n",
    "plt.title('model MAE')\n",
    "plt.ylabel('MAE')\n",
    "plt.xlabel('epoch')\n",
    "plt.legend(['train', 'validation'], loc='upper left')\n",
    "plt.show()"
   ]
  },
  {
   "cell_type": "code",
   "execution_count": 11,
   "metadata": {},
   "outputs": [
    {
     "data": {
      "image/png": "[encoded data removed]",
      "text/plain": [
       "<Figure size 432x288 with 1 Axes>"
      ]
     },
     "metadata": {
      "needs_background": "light"
     },
     "output_type": "display_data"
    }
   ],
   "source": [
    "# patent value loss plot\n",
    "plt.plot(result.history['patent_value_loss'])\n",
    "plt.plot(result.history['val_patent_value_loss'])\n",
    "plt.title('model patent value loss')\n",
    "plt.ylabel('patent value loss')\n",
    "plt.xlabel('epoch')\n",
    "plt.legend(['train', 'validation'], loc='upper left')\n",
    "plt.show()"
   ]
  },
  {
   "cell_type": "markdown",
   "metadata": {},
   "source": [
    "Using the hyperparameters from the Hyperas script with an adaptive optimizer (Adam) led to erratic loss during training. An aggressive learning rate reduction schedule was necessary to stabilize loss. "
   ]
  },
  {
   "cell_type": "code",
   "execution_count": 13,
   "metadata": {},
   "outputs": [
    {
     "name": "stdout",
     "output_type": "stream",
     "text": [
      "249713/249713 [==============================] - 9s 34us/step\n",
      "[0.06099576860405981, 0.16851775031554794, 8045.61984664645]\n"
     ]
    }
   ],
   "source": [
    "model = load_model('patent_text_model_epoch_no.030-2-14-20.h5', \n",
    "                   custom_objects={'patent_value_loss': patent_value_loss})\n",
    "\n",
    "print(model.evaluate(test_x, test_y))"
   ]
  },
  {
   "cell_type": "markdown",
   "metadata": {},
   "source": [
    "The loss and MAE of this epoch of training are 0.06 and 0.16, respectively. Predictions are off by \\\\$8,000 assuming a per-patent value of \\\\$50k (low estimate)."
   ]
  }
 ],
 "metadata": {
  "kernelspec": {
   "display_name": "Python 3",
   "language": "python",
   "name": "python3"
  },
  "language_info": {
   "codemirror_mode": {
    "name": "ipython",
    "version": 3
   },
   "file_extension": ".py",
   "mimetype": "text/x-python",
   "name": "python",
   "nbconvert_exporter": "python",
   "pygments_lexer": "ipython3",
   "version": "3.7.4"
  },
  "toc": {
   "base_numbering": 1,
   "nav_menu": {},
   "number_sections": true,
   "sideBar": true,
   "skip_h1_title": false,
   "title_cell": "Table of Contents",
   "title_sidebar": "Contents",
   "toc_cell": false,
   "toc_position": {},
   "toc_section_display": true,
   "toc_window_display": false
  },
  "varInspector": {
   "cols": {
    "lenName": 16,
    "lenType": 16,
    "lenVar": 40
   },
   "kernels_config": {
    "python": {
     "delete_cmd_postfix": "",
     "delete_cmd_prefix": "del ",
     "library": "var_list.py",
     "varRefreshCmd": "print(var_dic_list())"
    },
    "r": {
     "delete_cmd_postfix": ") ",
     "delete_cmd_prefix": "rm(",
     "library": "var_list.r",
     "varRefreshCmd": "cat(var_dic_list()) "
    }
   },
   "types_to_exclude": [
    "module",
    "function",
    "builtin_function_or_method",
    "instance",
    "_Feature"
   ],
   "window_display": false
  }
 },
 "nbformat": 4,
 "nbformat_minor": 2
}
